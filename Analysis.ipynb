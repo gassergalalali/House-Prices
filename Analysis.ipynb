{
 "cells": [
  {
   "cell_type": "code",
   "execution_count": null,
   "metadata": {},
   "outputs": [],
   "source": [
    "import numpy as np\n",
    "import pandas as pd\n",
    "import matplotlib.pyplot as plt\n",
    "import seaborn as sns\n",
    "import statsmodels.api as sm"
   ]
  },
  {
   "cell_type": "code",
   "execution_count": null,
   "metadata": {},
   "outputs": [],
   "source": [
    "data = pd.read_pickle(\"data.pkl\")"
   ]
  },
  {
   "cell_type": "code",
   "execution_count": null,
   "metadata": {},
   "outputs": [],
   "source": [
    "sns.pairplot(\n",
    "    data=data[['Price','Area', '#Beds','#Baths',\"PricePerFoot\"]],\n",
    "    kind='reg',\n",
    "    dropna=True,\n",
    ")\n",
    "plt.show()"
   ]
  },
  {
   "cell_type": "code",
   "execution_count": null,
   "metadata": {},
   "outputs": [],
   "source": [
    "sns.heatmap(data[['Price', 'Area', '#Beds','#Baths','PricePerFoot']].corr(), cmap=\"Blues\", linewidths=3, annot=True)\n",
    "plt.show()"
   ]
  },
  {
   "cell_type": "code",
   "execution_count": null,
   "metadata": {},
   "outputs": [],
   "source": [
    "data.groupby(\"Zip\").mean(numeric_only=True).plot.bar(subplots=True, sharey=False, figsize=(8,10))\n",
    "plt.show()"
   ]
  },
  {
   "cell_type": "code",
   "execution_count": null,
   "metadata": {},
   "outputs": [],
   "source": [
    "pd.concat([data[['Area','#Beds']], pd.get_dummies(data[\"Zip\"])], axis=1)"
   ]
  },
  {
   "cell_type": "code",
   "execution_count": null,
   "metadata": {},
   "outputs": [],
   "source": [
    "model = sm.OLS(\n",
    "    endog=data['Price'],\n",
    "    exog=sm.add_constant(\n",
    "        pd.concat(\n",
    "            [\n",
    "                data[[\n",
    "                    'Area',\n",
    "                    '#Beds',\n",
    "                    '#Baths',\n",
    "                ]], \n",
    "                pd.get_dummies(data[\"Zip\"])\n",
    "            ], \n",
    "            axis=1\n",
    "        )\n",
    "    ),\n",
    ").fit()\n",
    "model.summary()"
   ]
  }
 ],
 "metadata": {
  "kernelspec": {
   "display_name": "Python 3",
   "language": "python",
   "name": "python3"
  },
  "language_info": {
   "codemirror_mode": {
    "name": "ipython",
    "version": 3
   },
   "file_extension": ".py",
   "mimetype": "text/x-python",
   "name": "python",
   "nbconvert_exporter": "python",
   "pygments_lexer": "ipython3",
   "version": "3.11.3"
  },
  "orig_nbformat": 4
 },
 "nbformat": 4,
 "nbformat_minor": 2
}
