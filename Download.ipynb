{
 "cells": [
  {
   "cell_type": "code",
   "execution_count": null,
   "metadata": {},
   "outputs": [],
   "source": [
    "import numpy as np\n",
    "import pandas as pd\n",
    "import selenium.webdriver\n",
    "from bs4 import BeautifulSoup"
   ]
  },
  {
   "cell_type": "code",
   "execution_count": null,
   "metadata": {},
   "outputs": [],
   "source": [
    "browser = selenium.webdriver.Edge()\n",
    "browser.get(\"https://www.bing.com/homes/map?formcode=000074&q=mcallen%20and%20edinburg&tab=sale\")"
   ]
  },
  {
   "cell_type": "code",
   "execution_count": null,
   "metadata": {},
   "outputs": [],
   "source": [
    "soup = BeautifulSoup(browser.page_source)"
   ]
  },
  {
   "cell_type": "code",
   "execution_count": null,
   "metadata": {},
   "outputs": [],
   "source": [
    "houses = soup.select(\"a[class^='HouseList_house_item']\")\n",
    "data = pd.DataFrame({\n",
    "    \"Price\": [i.select_one(\"span[class^='HouseList_house_price']\").text for i in houses],\n",
    "    \"RoomInfo\": [i.select_one(\"div[class^='HouseList_house_roominfo']\").text for i in houses],\n",
    "    \"Address\": [i.select_one(\"img[class^='HouseList_house_img']\").attrs['alt'] for i in houses],\n",
    "    \"href\": [\"https://www.bing.com\" + i.attrs['href'] for i in houses],\n",
    "})\n",
    "data[\"Price\"] = data[\"Price\"].str.replace(\"[^0-9]\",\"\",regex=True).astype('int')\n",
    "data[\"#Beds\"] = data[\"RoomInfo\"].str.findall(\"^.*bed\").str.join(\"\").str.replace(\"[^0-9]\",\"\",regex=True).replace(\"^\\s*$\", np.nan, regex=True).astype('float')\n",
    "data[\"#Baths\"] = data[\"RoomInfo\"].str.findall(\",.*bath\").str.join(\"\").str.replace(\"[^0-9.]\",\"\",regex=True).replace(\"^\\s*$\", np.nan, regex=True).astype('float')\n",
    "data[\"Area\"] = data[\"RoomInfo\"].str.findall(\"bath, .*sqft\").str.join(\"\").str.replace(\"[^0-9]\",\"\",regex=True).replace(\"^\\s*$\", np.nan, regex=True).astype('float')\n",
    "data[\"Zip\"] = data[\"Address\"].str.findall(\", TX .*\").str.join(\"\").str.replace(\"[^0-9]\",\"\",regex=True).replace(\"^\\s*$\", np.nan, regex=True).astype('int')\n",
    "data[\"PricePerFoot\"] = data[\"Price\"] / data[\"Area\"] \n",
    "data = data.dropna()\n",
    "data = data[data[\"#Beds\"] > 0]\n",
    "data = data[data[\"#Baths\"] > 0]\n",
    "data.to_pickle(\"data.pkl\")\n",
    "data"
   ]
  }
 ],
 "metadata": {
  "kernelspec": {
   "display_name": "Python 3",
   "language": "python",
   "name": "python3"
  },
  "language_info": {
   "codemirror_mode": {
    "name": "ipython",
    "version": 3
   },
   "file_extension": ".py",
   "mimetype": "text/x-python",
   "name": "python",
   "nbconvert_exporter": "python",
   "pygments_lexer": "ipython3",
   "version": "3.11.3"
  },
  "orig_nbformat": 4
 },
 "nbformat": 4,
 "nbformat_minor": 2
}
